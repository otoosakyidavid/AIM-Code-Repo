{
  "nbformat": 4,
  "nbformat_minor": 0,
  "metadata": {
    "colab": {
      "name": "Lstm Autoencoder Using Keras.ipynb",
      "provenance": []
    },
    "kernelspec": {
      "name": "python3",
      "display_name": "Python 3"
    }
  },
  "cells": [
    {
      "cell_type": "code",
      "metadata": {
        "id": "klXB-9-tgL7W",
        "outputId": "cd33c822-61d9-409e-8808-4728aca426c8",
        "colab": {
          "base_uri": "https://localhost:8080/"
        }
      },
      "source": [
        "# Mounting drive\n",
        "from google.colab import drive\n",
        "drive.mount('/content/drive')"
      ],
      "execution_count": 78,
      "outputs": [
        {
          "output_type": "stream",
          "text": [
            "Drive already mounted at /content/drive; to attempt to forcibly remount, call drive.mount(\"/content/drive\", force_remount=True).\n"
          ],
          "name": "stdout"
        }
      ]
    },
    {
      "cell_type": "code",
      "metadata": {
        "id": "WXBhPvv8hkfI"
      },
      "source": [
        "#Path to directory\n",
        "import os\n",
        "os.chdir('/content/drive/My Drive/Analytics India')"
      ],
      "execution_count": 79,
      "outputs": []
    },
    {
      "cell_type": "code",
      "metadata": {
        "id": "7hdFh3EGh2Dw"
      },
      "source": [
        "# import some libraries\n",
        "import numpy as np\n",
        "import pandas as pd\n",
        "import matplotlib as mpl\n",
        "import matplotlib.pyplot as plt"
      ],
      "execution_count": 80,
      "outputs": []
    },
    {
      "cell_type": "code",
      "metadata": {
        "id": "ziNX82Jvh6lE"
      },
      "source": [
        "df = pd.read_csv('spx.csv', parse_dates=['date'], index_col='date')"
      ],
      "execution_count": 81,
      "outputs": []
    },
    {
      "cell_type": "code",
      "metadata": {
        "id": "EXAqk3kjiBKT"
      },
      "source": [
        "#Split the data into train and test(90:10)\n",
        "train_size = int(len(df) * 0.9)\n",
        "test_size = len(df) - train_size\n",
        "train, test = df.iloc[0:train_size], df.iloc[train_size:len(df)]"
      ],
      "execution_count": 82,
      "outputs": []
    },
    {
      "cell_type": "code",
      "metadata": {
        "id": "qLIP8dq8G_Ut",
        "outputId": "2c041c21-7c74-4ea6-cd83-3a4e5f72fdfc",
        "colab": {
          "base_uri": "https://localhost:8080/"
        }
      },
      "source": [
        "train.shape"
      ],
      "execution_count": 83,
      "outputs": [
        {
          "output_type": "execute_result",
          "data": {
            "text/plain": [
              "(7372, 1)"
            ]
          },
          "metadata": {
            "tags": []
          },
          "execution_count": 83
        }
      ]
    },
    {
      "cell_type": "code",
      "metadata": {
        "id": "2xNpEXYtiHgP",
        "outputId": "68c28531-e767-4944-80e8-f44c95f426b6",
        "colab": {
          "base_uri": "https://localhost:8080/"
        }
      },
      "source": [
        "from sklearn.preprocessing import StandardScaler\n",
        "scaler = StandardScaler()\n",
        "scaler = scaler.fit(train[['close']])\n",
        "train['close'] = scaler.transform(train[['close']])\n",
        "test['close'] = scaler.transform(test[['close']])"
      ],
      "execution_count": 84,
      "outputs": [
        {
          "output_type": "stream",
          "text": [
            "/usr/local/lib/python3.6/dist-packages/ipykernel_launcher.py:4: SettingWithCopyWarning: \n",
            "A value is trying to be set on a copy of a slice from a DataFrame.\n",
            "Try using .loc[row_indexer,col_indexer] = value instead\n",
            "\n",
            "See the caveats in the documentation: https://pandas.pydata.org/pandas-docs/stable/user_guide/indexing.html#returning-a-view-versus-a-copy\n",
            "  after removing the cwd from sys.path.\n",
            "/usr/local/lib/python3.6/dist-packages/ipykernel_launcher.py:5: SettingWithCopyWarning: \n",
            "A value is trying to be set on a copy of a slice from a DataFrame.\n",
            "Try using .loc[row_indexer,col_indexer] = value instead\n",
            "\n",
            "See the caveats in the documentation: https://pandas.pydata.org/pandas-docs/stable/user_guide/indexing.html#returning-a-view-versus-a-copy\n",
            "  \"\"\"\n"
          ],
          "name": "stderr"
        }
      ]
    },
    {
      "cell_type": "code",
      "metadata": {
        "id": "349yLmMMiMDr"
      },
      "source": [
        "def create_dataset(X, y, time_steps=1):\n",
        "    X1, y1 = [], []\n",
        "    for i in range(len(X) - time_steps):\n",
        "        t = X.iloc[i:(i + time_steps)].values\n",
        "        X1.append(t)\n",
        "        y1.append(y.iloc[i + time_steps])\n",
        "    return np.array(X1), np.array(y1)"
      ],
      "execution_count": 85,
      "outputs": []
    },
    {
      "cell_type": "code",
      "metadata": {
        "id": "o1ZHW4gPiW5h",
        "outputId": "919df67d-fbe5-42ec-b4e1-a96200b86f33",
        "colab": {
          "base_uri": "https://localhost:8080/"
        }
      },
      "source": [
        "TIME_STEPS = 30\n",
        "X_train, y_train = create_dataset(\n",
        "  train[['close']],\n",
        "  train.close,\n",
        "  TIME_STEPS\n",
        ")\n",
        "X_test, y_test = create_dataset(\n",
        "  test[['close']],\n",
        "  test.close,\n",
        "  TIME_STEPS\n",
        ")\n",
        "print(X_train.shape)"
      ],
      "execution_count": 86,
      "outputs": [
        {
          "output_type": "stream",
          "text": [
            "(7342, 30, 1)\n"
          ],
          "name": "stdout"
        }
      ]
    },
    {
      "cell_type": "markdown",
      "metadata": {
        "id": "lJRCbBpDZn-d"
      },
      "source": [
        "**LSTM Architecture**"
      ]
    },
    {
      "cell_type": "code",
      "metadata": {
        "id": "gzzQI3OzicTi",
        "outputId": "23aa943c-e7cb-46ee-85ed-c36832e2c22f",
        "colab": {
          "base_uri": "https://localhost:8080/"
        }
      },
      "source": [
        "import keras\n",
        "model = keras.Sequential()\n",
        "model.add(keras.layers.LSTM(\n",
        "    units=64,\n",
        "    input_shape=(X_train.shape[1], X_train.shape[2])\n",
        "))\n",
        "model.add(keras.layers.Dropout(rate=0.2))\n",
        "model.add(keras.layers.RepeatVector(n=X_train.shape[1]))\n",
        "model.add(keras.layers.LSTM(units=64, return_sequences=True))\n",
        "model.add(keras.layers.Dropout(rate=0.2))\n",
        "model.add(\n",
        "  keras.layers.TimeDistributed(\n",
        "    keras.layers.Dense(units=X_train.shape[2])\n",
        "  )\n",
        ")\n",
        "model.compile(loss='mae', optimizer='adam')\n",
        "model.summary()"
      ],
      "execution_count": 87,
      "outputs": [
        {
          "output_type": "stream",
          "text": [
            "Model: \"sequential_8\"\n",
            "_________________________________________________________________\n",
            "Layer (type)                 Output Shape              Param #   \n",
            "=================================================================\n",
            "lstm_16 (LSTM)               (None, 64)                16896     \n",
            "_________________________________________________________________\n",
            "dropout_16 (Dropout)         (None, 64)                0         \n",
            "_________________________________________________________________\n",
            "repeat_vector_8 (RepeatVecto (None, 30, 64)            0         \n",
            "_________________________________________________________________\n",
            "lstm_17 (LSTM)               (None, 30, 64)            33024     \n",
            "_________________________________________________________________\n",
            "dropout_17 (Dropout)         (None, 30, 64)            0         \n",
            "_________________________________________________________________\n",
            "time_distributed_8 (TimeDist (None, 30, 1)             65        \n",
            "=================================================================\n",
            "Total params: 49,985\n",
            "Trainable params: 49,985\n",
            "Non-trainable params: 0\n",
            "_________________________________________________________________\n"
          ],
          "name": "stdout"
        }
      ]
    },
    {
      "cell_type": "markdown",
      "metadata": {
        "id": "YEs-A00aZush"
      },
      "source": [
        "**Fitting the Model**"
      ]
    },
    {
      "cell_type": "code",
      "metadata": {
        "id": "fblezoWOi9Hl",
        "outputId": "46930524-72cb-406b-d984-e157a49e456c",
        "colab": {
          "base_uri": "https://localhost:8080/"
        }
      },
      "source": [
        "history = model.fit(\n",
        "    X_train, y_train,\n",
        "    epochs=20,\n",
        "    batch_size=32,\n",
        "    validation_split=0.1,\n",
        "    shuffle=False\n",
        ")"
      ],
      "execution_count": 88,
      "outputs": [
        {
          "output_type": "stream",
          "text": [
            "Epoch 1/20\n",
            "207/207 [==============================] - 8s 36ms/step - loss: 0.1778 - val_loss: 0.4079\n",
            "Epoch 2/20\n",
            "207/207 [==============================] - 7s 33ms/step - loss: 0.1001 - val_loss: 0.2973\n",
            "Epoch 3/20\n",
            "207/207 [==============================] - 7s 33ms/step - loss: 0.0770 - val_loss: 0.2506\n",
            "Epoch 4/20\n",
            "207/207 [==============================] - 7s 33ms/step - loss: 0.1020 - val_loss: 0.0806\n",
            "Epoch 5/20\n",
            "207/207 [==============================] - 7s 33ms/step - loss: 0.1142 - val_loss: 0.1789\n",
            "Epoch 6/20\n",
            "207/207 [==============================] - 7s 33ms/step - loss: 0.1319 - val_loss: 0.2268\n",
            "Epoch 7/20\n",
            "207/207 [==============================] - 7s 34ms/step - loss: 0.1264 - val_loss: 0.2452\n",
            "Epoch 8/20\n",
            "207/207 [==============================] - 7s 34ms/step - loss: 0.1327 - val_loss: 0.2794\n",
            "Epoch 9/20\n",
            "207/207 [==============================] - 7s 34ms/step - loss: 0.1318 - val_loss: 0.2915\n",
            "Epoch 10/20\n",
            "207/207 [==============================] - 7s 34ms/step - loss: 0.1298 - val_loss: 0.3582\n",
            "Epoch 11/20\n",
            "207/207 [==============================] - 7s 33ms/step - loss: 0.1317 - val_loss: 0.3226\n",
            "Epoch 12/20\n",
            "207/207 [==============================] - 7s 34ms/step - loss: 0.1326 - val_loss: 0.3272\n",
            "Epoch 13/20\n",
            "207/207 [==============================] - 7s 34ms/step - loss: 0.1304 - val_loss: 0.3571\n",
            "Epoch 14/20\n",
            "207/207 [==============================] - 7s 34ms/step - loss: 0.1610 - val_loss: 0.5188\n",
            "Epoch 15/20\n",
            "207/207 [==============================] - 7s 34ms/step - loss: 0.1664 - val_loss: 0.7124\n",
            "Epoch 16/20\n",
            "207/207 [==============================] - 7s 33ms/step - loss: 0.1380 - val_loss: 0.4441\n",
            "Epoch 17/20\n",
            "207/207 [==============================] - 7s 34ms/step - loss: 0.1439 - val_loss: 0.3019\n",
            "Epoch 18/20\n",
            "207/207 [==============================] - 7s 34ms/step - loss: 0.1478 - val_loss: 0.2315\n",
            "Epoch 19/20\n",
            "207/207 [==============================] - 7s 34ms/step - loss: 0.1081 - val_loss: 0.2561\n",
            "Epoch 20/20\n",
            "207/207 [==============================] - 7s 33ms/step - loss: 0.1219 - val_loss: 0.2538\n"
          ],
          "name": "stdout"
        }
      ]
    },
    {
      "cell_type": "markdown",
      "metadata": {
        "id": "coMcoletZ0LD"
      },
      "source": [
        "**Evaluation**"
      ]
    },
    {
      "cell_type": "code",
      "metadata": {
        "id": "qAo4IqPSIB1m",
        "outputId": "cce71bbb-3bc8-4767-a67f-7dd017d2d2e2",
        "colab": {
          "base_uri": "https://localhost:8080/",
          "height": 265
        }
      },
      "source": [
        "plt.plot(history.history['loss'], label='train')\n",
        "plt.plot(history.history['val_loss'], label='test')\n",
        "plt.legend();"
      ],
      "execution_count": 89,
      "outputs": [
        {
          "output_type": "display_data",
          "data": {
            "image/png": "[encoded data removed]",
            "text/plain": [
              "<Figure size 432x288 with 1 Axes>"
            ]
          },
          "metadata": {
            "tags": [],
            "needs_background": "light"
          }
        }
      ]
    },
    {
      "cell_type": "code",
      "metadata": {
        "id": "bdwllcx2ZRuE",
        "outputId": "b90230d2-5f98-4aba-cf1f-d96a836fea2d",
        "colab": {
          "base_uri": "https://localhost:8080/"
        }
      },
      "source": [
        "y_test"
      ],
      "execution_count": 90,
      "outputs": [
        {
          "output_type": "execute_result",
          "data": {
            "text/plain": [
              "array([2.41861171, 2.46564501, 2.46903424, 2.48248718, 2.47963857,\n",
              "       2.47552159, 2.48585561, 2.47595824, 2.43050519, 2.4705937 ,\n",
              "       2.46500044, 2.43713809, 2.44616216, 2.4417333 , 2.45102768,\n",
              "       2.41312241, 2.40686378, 2.37868954, 2.38049851, 2.43258447,\n",
              "       2.44019463, 2.40952526, 2.38939783, 2.41405809, 2.4226871 ,\n",
              "       2.46593611, 2.44254422, 2.46928375, 2.47209078, 2.43961243,\n",
              "       2.42657535, 2.42487034, 2.33369393, 2.34506759, 2.37482208,\n",
              "       2.37349134, 2.35681552, 2.38297285, 2.31090502, 2.32053209,\n",
              "       2.37315865, 2.4209405 , 2.44038177, 2.43715888, 2.47227792,\n",
              "       2.47716422, 2.48057424, 2.46171518, 2.45119402, 2.42624266,\n",
              "       2.37945887, 2.35448672, 2.40773708, 2.43959164, 2.4397164 ,\n",
              "       2.42975665, 2.41769682, 2.40788262, 2.42143953, 2.38758886,\n",
              "       2.37513397, 2.4304636 , 2.38864929, 2.39276626, 2.38723538,\n",
              "       2.40418151, 2.42684566, 2.41536803, 2.3793757 , 2.28813691,\n",
              "       2.15331641, 1.99179797, 1.93856841, 2.0901479 , 2.18818593,\n",
              "       2.19070186, 2.15599868, 2.0347143 , 2.10750988, 2.11222985,\n",
              "       2.05003859, 2.15023908, 2.09332919, 2.11464181, 2.1328563 ,\n",
              "       2.11618048, 2.16828723, 2.20409242, 2.1934673 , 2.12657688,\n",
              "       2.14516564, 2.09478469, 2.08650916, 2.07295225, 2.0710809 ,\n",
              "       1.96801101, 1.97283494, 2.04756425, 2.05544472, 2.11270808,\n",
              "       2.18691757, 2.17209231, 2.20517365, 2.24176897, 2.24480472,\n",
              "       2.25014847, 2.22151679, 2.20186759, 2.26345586, 2.28268919,\n",
              "       2.2838328 , 2.27782368, 2.2532258 , 2.32302722, 2.37010211,\n",
              "       2.36184737, 2.35084798, 2.40170716, 2.39975264, 2.37885588,\n",
              "       2.4301933 , 2.44212836, 2.42657535, 2.42162666, 2.42010879,\n",
              "       2.37723404, 2.38376298, 2.36979022, 2.30942873, 2.26175085,\n",
              "       2.32444113, 2.31872311, 2.38763044, 2.38276493, 2.39925361,\n",
              "       2.39388907, 2.39919124, 2.39862983, 2.40120814, 2.38103912,\n",
              "       2.42724072, 2.37916777, 2.3170181 , 2.4044934 , 2.37409433,\n",
              "       2.34606564, 2.31285954, 2.32244502, 2.23956493, 2.25946364,\n",
              "       2.30410578, 2.36577721, 2.30094527, 2.22538425, 2.25782101,\n",
              "       2.29487377, 2.34752114, 2.34065951, 2.33132355, 2.3767766 ,\n",
              "       2.34558741, 2.30520779, 2.24016793, 2.24858901, 2.19359206,\n",
              "       2.09551244, 2.05172281, 2.05513283, 2.08634281, 1.98570568,\n",
              "       2.05132774, 1.96501684, 1.96709612, 1.92135197, 1.94143781,\n",
              "       2.02026331, 1.95825919, 2.01346406, 1.97046456, 1.99210986,\n",
              "       2.08958649, 2.08779831, 2.01221649, 2.03196965, 2.03804115,\n",
              "       1.96443465, 1.90910501, 1.9065475 , 1.90581975, 1.85845376,\n",
              "       1.93268405, 1.99672586, 2.06168256, 2.04298983, 2.04288587,\n",
              "       2.1005235 , 2.05014255, 2.06787881, 2.11341504, 2.10582566,\n",
              "       2.07293146, 2.16882784, 2.18567   , 2.200121  , 2.21382345,\n",
              "       2.21750378, 2.17071998, 2.19151278, 2.19215736, 2.25998346,\n",
              "       2.2546813 , 2.24696717, 2.27044224, 2.29824221, 2.31693493,\n",
              "       2.32113508, 2.31739237, 2.2901746 , 2.28857356, 2.29088156,\n",
              "       2.32822542, 2.34681418, 2.33806041, 2.36517422, 2.35134701,\n",
              "       2.30776531, 2.35244903, 2.30098686, 2.31281796, 2.3011532 ,\n",
              "       2.34217739, 2.38521848, 2.38596702, 2.38170449, 2.41000349,\n",
              "       2.42343564, 2.42676248, 2.40405675, 2.40426468, 2.39638421,\n",
              "       2.40451419, 2.41168771, 2.37147444, 2.34962121, 2.38315999,\n",
              "       2.3456082 , 2.32013702, 2.31911817, 2.33265429, 2.33587717,\n",
              "       2.38931466, 2.34787461, 2.34714687, 2.31075947, 2.35244903,\n",
              "       2.31200704, 2.31288034, 2.2970986 , 2.32263216, 2.31373284,\n",
              "       2.37199426, 2.40210223, 2.40118734, 2.41981769, 2.4154512 ,\n",
              "       2.4203791 , 2.43270922, 2.41996324, 2.44133823, 2.44699388,\n",
              "       2.46152804, 2.45395946, 2.41360064, 2.3782321 , 2.37045559,\n",
              "       2.36251274, 2.37600727, 2.36193054, 2.38694428, 2.39869221,\n",
              "       2.39151869, 2.44946822, 2.2916301 , 2.21496706, 2.28888545,\n",
              "       2.36099487, 2.41940183, 2.42790609, 2.39796446, 2.42121081,\n",
              "       2.41740573, 2.48394268, 2.49903825, 2.53018586, 2.53078885,\n",
              "       2.55432629, 2.55014694, 2.56085523, 2.55438867, 2.57360122,\n",
              "       2.55727887, 2.57778057, 2.56416129, 2.56561678, 2.56021065,\n",
              "       2.56744655, 2.5748072 , 2.56906839, 2.54035353, 2.55440946,\n",
              "       2.55536593, 2.59408212, 2.58996515, 2.59173253, 2.57873704,\n",
              "       2.60015362, 2.59653567, 2.60921928, 2.58426792, 2.59273059,\n",
              "       2.60271113, 2.5961614 , 2.59360389, 2.60246162, 2.57863307,\n",
              "       2.57245761, 2.56532568, 2.58890471, 2.58004698, 2.56929711,\n",
              "       2.56910997, 2.588073  , 2.60158832, 2.60092295, 2.59081765,\n",
              "       2.47959698, 2.54453289, 2.47795435, 2.47535525, 2.52003897,\n",
              "       2.50319681, 2.50311363, 2.50444437, 2.55301635, 2.58225102,\n",
              "       2.55628082, 2.51762701, 2.54638344, 2.5701704 , 2.52808578,\n",
              "       2.56372464, 2.54902413, 2.52675504, 2.54596759, 2.54813004,\n",
              "       2.5335127 , 2.55413916, 2.49814416, 2.50323839, 2.48945277,\n",
              "       2.49034686, 2.47687312, 2.50411169, 2.51386351, 2.50772964,\n",
              "       2.50735536, 2.52850164, 2.51151392, 2.50375821, 2.49047161,\n",
              "       2.47668599, 2.47614538, 2.44614137, 2.4174889 , 2.39819318,\n",
              "       2.39095729, 2.48731111, 2.50402852, 2.55330745, 2.56208201,\n",
              "       2.55578179, 2.55526197, 2.58892551, 2.58175199, 2.60291906,\n",
              "       2.59206522, 2.62591589, 2.63581326, 2.63951438, 2.65745857,\n",
              "       2.63327654, 2.63938962, 2.62722584, 2.61115301, 2.61296198,\n",
              "       2.63949359, 2.65512977, 2.7156784 , 2.72574211, 2.7534797 ,\n",
              "       2.74813595, 2.77882612, 2.7404842 , 2.7586779 , 2.75044395,\n",
              "       2.75971754, 2.77683001, 2.76522763, 2.75645307, 2.76233743,\n",
              "       2.77292097, 2.73349782, 2.7321255 , 2.71043861, 2.74994493,\n",
              "       2.77680922, 2.77317048, 2.78976313, 2.77296255, 2.77296255,\n",
              "       2.78631153, 2.77616464, 2.78489762, 2.77086248, 2.7791796 ,\n",
              "       2.7621295 , 2.77797362, 2.76526922, 2.79618811, 2.83423892,\n",
              "       2.83072494, 2.82658718, 2.79791391, 2.79369297, 2.79510688,\n",
              "       2.79780994, 2.83226361, 2.82215831, 2.82323953, 2.82654559,\n",
              "       2.85399208, 2.87110455, 2.8963678 , 2.91576748, 2.94003267,\n",
              "       2.93581174, 2.9440041 , 2.97357146, 2.9682485 , 2.97030699,\n",
              "       2.97764684, 2.98265791, 2.96995351, 3.03715583, 3.00796274,\n",
              "       3.01045788, 2.9942187 , 2.97983009, 2.96858118, 2.97251102,\n",
              "       2.98858386, 2.99039283, 2.97371701, 3.01490754, 3.00683993,\n",
              "       3.00033179, 2.99039283, 2.92915804, 2.93836925, 2.93319184,\n",
              "       2.92907487, 2.92410539, 2.95941156, 2.96473452, 2.97914393,\n",
              "       2.96804057, 2.95997297, 2.96271762, 2.94772601, 2.95716594,\n",
              "       2.95311134, 2.95647978, 2.94945181, 2.93105019, 2.8978233 ,\n",
              "       2.93953365, 2.92535296, 2.91699426, 2.95373513, 2.93886828,\n",
              "       2.99180674, 3.02187312, 3.01946116, 3.02220581, 3.0127035 ,\n",
              "       3.02129092, 3.02719608, 3.02087507, 3.02376527, 3.04407983,\n",
              "       3.04426697, 3.03915194, 3.04478679, 3.03399532, 3.02663467,\n",
              "       3.05038005, 3.04694924, 2.95620947, 2.97427841, 3.00756768,\n",
              "       3.03312203, 3.04227086, 3.05468416, 3.07689086, 3.07845032,\n",
              "       3.07239962, 3.07009162, 3.10805927, 3.12679358, 3.12061812,\n",
              "       3.10654139, 3.11446345, 3.11581498, 3.11161483, 3.10666615,\n",
              "       3.12945505, 3.1244024 , 3.11304954, 3.11448424, 3.15671441,\n",
              "       3.12255185, 3.11959927, 3.11729127, 3.12519253, 3.12679358,\n",
              "       3.08585256, 3.13016201, 3.08651793, 3.09423206, 3.10587602,\n",
              "       3.11321588, 3.0658291 , 3.09791238, 3.10259076, 3.09864013,\n",
              "       3.13548497, 3.14500807, 3.16879503, 3.16852472, 3.17158126,\n",
              "       3.19906934, 3.19827921, 3.19638707, 3.19091856, 3.20593096,\n",
              "       3.20738646, 3.20237539, 3.19547218, 3.19172948, 3.20430912,\n",
              "       3.20684584, 3.19559694, 3.20530718, 3.21379064, 3.20133575,\n",
              "       3.1994644 , 3.1250054 , 3.13147196, 3.18245589, 3.17989838,\n",
              "       3.18717586, 3.1079553 , 3.09868171, 3.10454528, 3.1547391 ,\n",
              "       3.1371276 , 3.12658565, 3.13506911, 3.13754345, 3.14182677,\n",
              "       3.16530184, 3.19453651, 3.20472498, 3.16584245, 3.18183211,\n",
              "       3.18091723, 3.17328627, 3.22876145, 3.24616502, 3.25009486,\n",
              "       3.24437684, 3.25396232, 3.2615309 , 3.2673113 , 3.27061735,\n",
              "       3.25473166, 3.25810009, 3.24653929, 3.24691356, 3.26812222,\n",
              "       3.27440164, 3.29373894, 3.31403271, 3.32538558, 3.3319561 ,\n",
              "       3.36175218, 3.35605495, 3.34649027, 3.35877881, 3.3683435 ,\n",
              "       3.3593818 , 3.36403939, 3.37333377, 3.37691013, 3.38086076,\n",
              "       3.38260736, 3.40986671, 3.38859568, 3.39722469, 3.37231492,\n",
              "       3.37907258, 3.42205129, 3.40491803, 3.40997068, 3.41849572,\n",
              "       3.41951457, 3.43612801, 3.44296885, 3.44195   , 3.4497265 ,\n",
              "       3.42943273, 3.42460881, 3.42989018, 3.41747688, 3.38784714,\n",
              "       3.4315536 , 3.41743529, 3.42427612, 3.45939515, 3.45534056,\n",
              "       3.46644391, 3.46436463, 3.51763578, 3.51561888, 3.56034418,\n",
              "       3.54919924, 3.54341885, 3.52289636, 3.52227257, 3.53830382,\n",
              "       3.56849496, 3.58614804, 3.59471468, 3.59209478, 3.56955539,\n",
              "       3.61904225, 3.64887991, 3.63081097, 3.62619497, 3.63725674,\n",
              "       3.63469922, 3.62879407, 3.63320214, 3.6434322 , 3.61446783,\n",
              "       3.66062784, 3.69649542, 3.71922194, 3.75906094, 3.76854246,\n",
              "       3.77598628, 3.76962368, 3.80981616, 3.8486571 , 3.82823858,\n",
              "       3.88259095, 3.87317181, 3.89868457, 3.94582184, 3.95863021,\n",
              "       3.95532415, 3.95887972, 4.0287851 , 3.98857183, 3.92390624,\n",
              "       3.92677564, 3.92297056, 3.79852567, 3.563172  , 3.65923473,\n",
              "       3.63120603, 3.42190574, 3.50206197, 3.57785172, 3.59228192,\n",
              "       3.66649141, 3.73421355, 3.73633442, 3.70314911, 3.67210547,\n",
              "       3.67757397, 3.76768995, 3.83485069, 3.76141053, 3.69809646,\n",
              "       3.62290971, 3.65114633, 3.71288014, 3.72780937, 3.72506472,\n",
              "       3.75036955, 3.84934327, 3.84196182, 3.80513778, 3.77222278,\n",
              "       3.76775233, 3.77748336, 3.69620432, 3.70456302, 3.69414583,\n",
              "       3.55225579, 3.43700131, 3.58315388, 3.48765257, 3.47180845,\n",
              "       3.54639222, 3.42373551, 3.49145765, 3.55433506, 3.59207399,\n",
              "       3.47070644, 3.48877538, 3.57966069, 3.54913687, 3.59446516,\n",
              "       3.5784755 , 3.62326319, 3.68262662, 3.687305  , 3.65505537,\n",
              "       3.60725273, 3.60756462, 3.53327196, 3.54333568, 3.60059904,\n",
              "       3.6067745 , 3.56132144, 3.57535658, 3.53557996, 3.52322904,\n",
              "       3.59327997, 3.61243014, 3.61095385, 3.66474482, 3.71730901,\n",
              "       3.72697766, 3.73198872, 3.69314778, 3.71604065, 3.71119592,\n",
              "       3.69630828, 3.73797705, 3.72015762, 3.73855925, 3.72706083,\n",
              "       3.71369106, 3.64825613, 3.71926353, 3.68029783, 3.74132469,\n",
              "       3.76679586, 3.77080887, 3.81977591, 3.81565894, 3.8336655 ,\n",
              "       3.83984096, 3.84992547, 3.82659595, 3.84085981, 3.83497544,\n",
              "       3.8226869 , 3.79948214, 3.80931713, 3.77280498, 3.78345089,\n",
              "       3.70483333, 3.71728821, 3.66857069, 3.70325308, 3.70753639])"
            ]
          },
          "metadata": {
            "tags": []
          },
          "execution_count": 90
        }
      ]
    },
    {
      "cell_type": "markdown",
      "metadata": {
        "id": "M22C-JxtZ6Ho"
      },
      "source": [
        "**Model Prediction**"
      ]
    },
    {
      "cell_type": "code",
      "metadata": {
        "id": "gUbospJpNJ-e",
        "outputId": "85032945-2427-4a0f-f5b2-d4ded945f911",
        "colab": {
          "base_uri": "https://localhost:8080/"
        }
      },
      "source": [
        "pred = model.predict(X_test, verbose=0)\n",
        "pred"
      ],
      "execution_count": 91,
      "outputs": [
        {
          "output_type": "execute_result",
          "data": {
            "text/plain": [
              "array([[[2.1580467],\n",
              "        [2.2224562],\n",
              "        [1.6222627],\n",
              "        ...,\n",
              "        [1.8767393],\n",
              "        [1.7912462],\n",
              "        [1.8705808]],\n",
              "\n",
              "       [[2.1544435],\n",
              "        [2.2180266],\n",
              "        [1.6199939],\n",
              "        ...,\n",
              "        [1.8723845],\n",
              "        [1.7890016],\n",
              "        [1.8662947]],\n",
              "\n",
              "       [[2.1725898],\n",
              "        [2.2411165],\n",
              "        [1.6313701],\n",
              "        ...,\n",
              "        [1.8944705],\n",
              "        [1.800784 ],\n",
              "        [1.8880577]],\n",
              "\n",
              "       ...,\n",
              "\n",
              "       [[2.7204351],\n",
              "        [2.9859562],\n",
              "        [2.0242012],\n",
              "        ...,\n",
              "        [2.728125 ],\n",
              "        [2.1167555],\n",
              "        [2.7227678]],\n",
              "\n",
              "       [[2.7091792],\n",
              "        [2.968618 ],\n",
              "        [2.0149634],\n",
              "        ...,\n",
              "        [2.713779 ],\n",
              "        [2.1041322],\n",
              "        [2.7085063]],\n",
              "\n",
              "       [[2.7136645],\n",
              "        [2.9760954],\n",
              "        [2.0182934],\n",
              "        ...,\n",
              "        [2.718225 ],\n",
              "        [2.1105535],\n",
              "        [2.7128687]]], dtype=float32)"
            ]
          },
          "metadata": {
            "tags": []
          },
          "execution_count": 91
        }
      ]
    }
  ]
}